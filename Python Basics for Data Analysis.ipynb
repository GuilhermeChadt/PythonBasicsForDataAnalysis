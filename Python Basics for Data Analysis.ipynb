{
 "cells": [
  {
   "cell_type": "markdown",
   "id": "bdb2b07f",
   "metadata": {},
   "source": [
    "# Primeiros comandos"
   ]
  },
  {
   "cell_type": "code",
   "execution_count": 1,
   "id": "814d8f3a",
   "metadata": {},
   "outputs": [
    {
     "name": "stdout",
     "output_type": "stream",
     "text": [
      "Hello, world!\n"
     ]
    }
   ],
   "source": [
    "print(\"Hello, world!\")"
   ]
  },
  {
   "cell_type": "markdown",
   "id": "3917cf83",
   "metadata": {},
   "source": [
    "## Criando variáveis "
   ]
  },
  {
   "cell_type": "code",
   "execution_count": 2,
   "id": "aa6acdfa",
   "metadata": {},
   "outputs": [
    {
     "name": "stdout",
     "output_type": "stream",
     "text": [
      "O valor da variável checkingAccount é: 500\n",
      "O valor da variável savingsAccount é: 1000\n"
     ]
    }
   ],
   "source": [
    "checkingAccount = 500\n",
    "savingsAccount = 1000\n",
    "\n",
    "print(\"O valor da variável checkingAccount é:\", checkingAccount)\n",
    "print(\"O valor da variável savingsAccount é:\", savingsAccount)"
   ]
  },
  {
   "cell_type": "markdown",
   "id": "803d0872",
   "metadata": {},
   "source": [
    "## Operações Matemáticas"
   ]
  },
  {
   "cell_type": "code",
   "execution_count": 8,
   "id": "9f1af364",
   "metadata": {},
   "outputs": [
    {
     "name": "stdout",
     "output_type": "stream",
     "text": [
      "adicionando 100 em savings =  1100\n",
      "removendo 50 de checkingAccounts =  450\n",
      "atualizando valor com ganhos e perdas do dia =  540\n"
     ]
    }
   ],
   "source": [
    "checkingAccount = 500\n",
    "savingsAccount = 1000\n",
    "\n",
    "# adicionando 100 em savings\n",
    "savingsAccount = savingsAccount + 100\n",
    "print(\"adicionando 100 em savings = \", savingsAccount)\n",
    "## versão curta do código\n",
    "savingsAccount += 100\n",
    "\n",
    "# removendo 50 de checkingAccounts\n",
    "checkingAccount = checkingAccount - 50\n",
    "print(\"removendo 50 de checkingAccounts = \",checkingAccount)\n",
    "# versão curta do código\n",
    "checkingAccount -= 50\n",
    "\n",
    "\n",
    "# atualizando valor com ganhos e perdas do dia\n",
    "checkingAccount = checkingAccount  + (30 - 10) * 7\n",
    "print(\"atualizando valor com ganhos e perdas do dia = \", checkingAccount)"
   ]
  },
  {
   "cell_type": "code",
   "execution_count": null,
   "id": "917a5eaa",
   "metadata": {},
   "outputs": [],
   "source": []
  }
 ],
 "metadata": {
  "kernelspec": {
   "display_name": "Python 3 (ipykernel)",
   "language": "python",
   "name": "python3"
  },
  "language_info": {
   "codemirror_mode": {
    "name": "ipython",
    "version": 3
   },
   "file_extension": ".py",
   "mimetype": "text/x-python",
   "name": "python",
   "nbconvert_exporter": "python",
   "pygments_lexer": "ipython3",
   "version": "3.9.13"
  }
 },
 "nbformat": 4,
 "nbformat_minor": 5
}
